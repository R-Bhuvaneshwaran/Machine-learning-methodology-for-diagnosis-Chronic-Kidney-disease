{
  "cells": [
    {
      "cell_type": "code",
      "execution_count": null,
      "metadata": {
        "colab": {
          "base_uri": "https://localhost:8080/",
          "height": 699
        },
        "id": "Tcvy0KC8fe28",
        "outputId": "e29cfdf4-2f0e-46e9-8059-dd542b0e2b9b"
      },
      "outputs": [
        {
          "name": "stdout",
          "output_type": "stream",
          "text": [
            "The best parameters are:\n",
            " {'criterion': 'gini', 'max_features': 'auto', 'min_samples_split': 3, 'n_estimators': 30}\n",
            "\n",
            "The best model after gridsearch is:\n",
            " RandomForestClassifier(min_samples_split=3, n_estimators=30, random_state=0)\n",
            "\n",
            "Precision: 1.0\n",
            "Accuracy: 0.9833333333333333\n",
            "Recall: 0.9545454545454546\n",
            "F1-score: 0.9767441860465117\n",
            "\n",
            "Classification Report:\n",
            "              precision    recall  f1-score   support\n",
            "\n",
            "           0       0.97      1.00      0.99        76\n",
            "           1       1.00      0.95      0.98        44\n",
            "\n",
            "    accuracy                           0.98       120\n",
            "   macro avg       0.99      0.98      0.98       120\n",
            "weighted avg       0.98      0.98      0.98       120\n",
            "\n",
            "\n",
            "Confusion Matrix: \n",
            "[[76  0]\n",
            " [ 2 42]]\n"
          ]
        },
        {
          "data": {
            "image/png": "[encoded data removed]",
            "text/plain": [
              "<Figure size 432x288 with 2 Axes>"
            ]
          },
          "metadata": {},
          "output_type": "display_data"
        }
      ],
      "source": [
        "#Random forest\n",
        "\n",
        "from sklearn.ensemble import RandomForestClassifier\n",
        "\n",
        "\n",
        "#initialise the random forest Model\n",
        "random_forest_model = RandomForestClassifier(random_state = 0)\n",
        "\n",
        "#defining the random forest parameters for grid search\n",
        "rf_parameters_grid = {'n_estimators': [10, 30, 40, 50, 60, 70, 80, 90, 100],\n",
        "                      'criterion': ['gini', 'entropy'],\n",
        "                      'min_samples_split': [1.0, 2, 3, 4, 5],\n",
        "                      'max_features': ['auto', 'sqrt', 'log2']}\n",
        "\n",
        "#apply exhaustice gridsearch to find the optimal solution\n",
        "rf_grid_search = GridSearchCV(random_forest_model, rf_parameters_grid, scoring = 'accuracy')\n",
        "#fit the data to the grid\n",
        "rf_grid_search.fit(train_features, train_target)\n",
        "\n",
        "#print which are best parameters after gridsearch\n",
        "print('The best parameters are:\\n ' +str(rf_grid_search.best_params_))\n",
        "\n",
        "#print the best model after gridsearch\n",
        "print('\\nThe best model after gridsearch is:\\n ' + str(rf_grid_search.best_estimator_))\n",
        "\n",
        "#Random Forest predictions on test features\n",
        "rf_prediction = rf_grid_search.predict(test_features)\n",
        "\n",
        "#display KNN classification Metrices for Decision Tree\n",
        "print('\\nPrecision: ' + str(metrics.precision_score(test_target, rf_prediction)))\n",
        "print('Accuracy: ' + str(metrics.accuracy_score(test_target, rf_prediction)))\n",
        "print('Recall: ' + str(metrics.recall_score(test_target, rf_prediction)))\n",
        "print('F1-score: ' + str(metrics.f1_score(test_target, rf_prediction)))\n",
        "Rf_acc = metrics.accuracy_score(test_target, rf_prediction)\n",
        "\n",
        "#display classification report for Decision Tree\n",
        "print('\\nClassification Report:\\n' + str(metrics.classification_report(test_target, rf_prediction)))\n",
        "\n",
        "#display confusion matrix\n",
        "print('\\nConfusion Matrix: \\n' + str(metrics.confusion_matrix(test_target, rf_prediction)))\n",
        "#plot confusion matrix\n",
        "sns.heatmap(metrics.confusion_matrix(test_target, rf_prediction), annot = True)\n",
        "plt.show()"
      ]
    }
  ],
  "metadata": {
    "colab": {
      "provenance": []
    },
    "kernelspec": {
      "display_name": "Python 3",
      "name": "python3"
    },
    "language_info": {
      "name": "python"
    }
  },
  "nbformat": 4,
  "nbformat_minor": 0
}
