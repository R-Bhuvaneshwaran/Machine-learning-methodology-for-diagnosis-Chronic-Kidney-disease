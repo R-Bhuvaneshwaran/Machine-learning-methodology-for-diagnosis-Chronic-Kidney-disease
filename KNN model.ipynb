{
  "cells": [
    {
      "cell_type": "code",
      "execution_count": null,
      "metadata": {
        "colab": {
          "base_uri": "https://localhost:8080/",
          "height": 699
        },
        "id": "7VcBBEvUe1ck",
        "outputId": "5e9b8fc5-1ea3-4da6-c871-7313fde98832"
      },
      "outputs": [
        {
          "name": "stdout",
          "output_type": "stream",
          "text": [
            "The best parameters are:\n",
            " {'algorithm': 'auto', 'n_jobs': 1, 'n_neighbors': 4, 'weights': 'uniform'}\n",
            "\n",
            "The best model after gridsearch is:\n",
            " KNeighborsClassifier(n_jobs=1, n_neighbors=4)\n",
            "\n",
            "Precision: 0.9761904761904762\n",
            "Accuracy: 0.9666666666666667\n",
            "Recall: 0.9318181818181818\n",
            "F1-score: 0.9534883720930233\n",
            "\n",
            "Classification Report:\n",
            "              precision    recall  f1-score   support\n",
            "\n",
            "           0       0.96      0.99      0.97        76\n",
            "           1       0.98      0.93      0.95        44\n",
            "\n",
            "    accuracy                           0.97       120\n",
            "   macro avg       0.97      0.96      0.96       120\n",
            "weighted avg       0.97      0.97      0.97       120\n",
            "\n",
            "\n",
            "Confusion Matrix: \n",
            "[[75  1]\n",
            " [ 3 41]]\n"
          ]
        },
        {
          "data": {
            "image/png": "[encoded data removed]",
            "text/plain": [
              "<Figure size 432x288 with 2 Axes>"
            ]
          },
          "metadata": {},
          "output_type": "display_data"
        }
      ],
      "source": [
        "from sklearn.neighbors import KNeighborsClassifier\n",
        "\n",
        "#initialise the k nearest neighbour Model\n",
        "k_nearest_neighbour_model = KNeighborsClassifier()\n",
        "\n",
        "#defining the knn parameters for grid search\n",
        "knn_parameters_grid = {'n_neighbors': [1, 2, 3, 4, 5, 6, 7, 8, 9, 10],\n",
        "                       'weights': ['uniform', 'distance'],\n",
        "                       'algorithm':['auto', 'ball_tree','kd_tree','brute'],\n",
        "                       'n_jobs':[1, -1]}\n",
        "\n",
        "#apply exhaustice gridsearch to find the optimal solution\n",
        "knn_grid_search = GridSearchCV(k_nearest_neighbour_model, knn_parameters_grid, scoring = 'accuracy')\n",
        "#fit the data to the grid\n",
        "knn_grid_search.fit(train_features, train_target)\n",
        "\n",
        "#print which are best parameters after gridsearch\n",
        "print('The best parameters are:\\n ' +str(knn_grid_search.best_params_))\n",
        "\n",
        "#print the best model after gridsearch\n",
        "print('\\nThe best model after gridsearch is:\\n ' + str(knn_grid_search.best_estimator_))\n",
        "\n",
        "#KNN predictions on test features\n",
        "knn_prediction = knn_grid_search.predict(test_features)\n",
        "\n",
        "#display KNN classification Metrices for SVM\n",
        "print('\\nPrecision: ' + str(metrics.precision_score(test_target, knn_prediction)))\n",
        "print('Accuracy: ' + str(metrics.accuracy_score(test_target, knn_prediction)))\n",
        "print('Recall: ' + str(metrics.recall_score(test_target, knn_prediction)))\n",
        "print('F1-score: ' + str(metrics.f1_score(test_target, knn_prediction)))\n",
        "Knn_acc = metrics.accuracy_score(test_target, knn_prediction)\n",
        "#display classification report for KNN\n",
        "print('\\nClassification Report:\\n' + str(metrics.classification_report(test_target, knn_prediction)))\n",
        "\n",
        "#display confusion matrix\n",
        "print('\\nConfusion Matrix: \\n' + str(metrics.confusion_matrix(test_target, knn_prediction)))\n",
        "#plot confusion matrix\n",
        "sns.heatmap(metrics.confusion_matrix(test_target, knn_prediction), annot = True)\n",
        "plt.show()"
      ]
    }
  ],
  "metadata": {
    "colab": {
      "provenance": []
    },
    "kernelspec": {
      "display_name": "Python 3",
      "name": "python3"
    },
    "language_info": {
      "name": "python"
    }
  },
  "nbformat": 4,
  "nbformat_minor": 0
}
